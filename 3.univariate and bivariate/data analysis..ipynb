{
 "cells": [
  {
   "cell_type": "code",
   "execution_count": 1,
   "id": "d4722fcb",
   "metadata": {},
   "outputs": [],
   "source": [
    "import pandas as pd\n",
    "import matplotlib.pyplot as plt\n",
    "import seaborn as sns\n",
    "import numpy as np\n",
    "\n"
   ]
  },
  {
   "cell_type": "code",
   "execution_count": 2,
   "id": "c9e504db",
   "metadata": {},
   "outputs": [],
   "source": [
    "dataset=pd.read_csv(\"preprocessedloan_data.csv\")"
   ]
  },
  {
   "cell_type": "code",
   "execution_count": 3,
   "id": "efff245c",
   "metadata": {
    "scrolled": false
   },
   "outputs": [
    {
     "data": {
      "text/html": [
       "<div>\n",
       "<style scoped>\n",
       "    .dataframe tbody tr th:only-of-type {\n",
       "        vertical-align: middle;\n",
       "    }\n",
       "\n",
       "    .dataframe tbody tr th {\n",
       "        vertical-align: top;\n",
       "    }\n",
       "\n",
       "    .dataframe thead th {\n",
       "        text-align: right;\n",
       "    }\n",
       "</style>\n",
       "<table border=\"1\" class=\"dataframe\">\n",
       "  <thead>\n",
       "    <tr style=\"text-align: right;\">\n",
       "      <th></th>\n",
       "      <th>loan_id</th>\n",
       "      <th>no_of_dependents</th>\n",
       "      <th>income_annum</th>\n",
       "      <th>loan_amount</th>\n",
       "      <th>loan_term</th>\n",
       "      <th>cibil_score</th>\n",
       "      <th>residential_assets_value</th>\n",
       "      <th>commercial_assets_value</th>\n",
       "      <th>luxury_assets_value</th>\n",
       "      <th>bank_asset_value</th>\n",
       "      <th>education_ Not Graduate</th>\n",
       "      <th>self_employed_ Yes</th>\n",
       "      <th>loan_status_ Rejected</th>\n",
       "    </tr>\n",
       "  </thead>\n",
       "  <tbody>\n",
       "    <tr>\n",
       "      <th>0</th>\n",
       "      <td>1</td>\n",
       "      <td>2</td>\n",
       "      <td>9600000</td>\n",
       "      <td>29900000</td>\n",
       "      <td>12</td>\n",
       "      <td>778</td>\n",
       "      <td>2400000</td>\n",
       "      <td>17600000</td>\n",
       "      <td>22700000</td>\n",
       "      <td>8000000</td>\n",
       "      <td>0</td>\n",
       "      <td>0</td>\n",
       "      <td>0</td>\n",
       "    </tr>\n",
       "    <tr>\n",
       "      <th>1</th>\n",
       "      <td>2</td>\n",
       "      <td>0</td>\n",
       "      <td>4100000</td>\n",
       "      <td>12200000</td>\n",
       "      <td>8</td>\n",
       "      <td>417</td>\n",
       "      <td>2700000</td>\n",
       "      <td>2200000</td>\n",
       "      <td>8800000</td>\n",
       "      <td>3300000</td>\n",
       "      <td>1</td>\n",
       "      <td>1</td>\n",
       "      <td>1</td>\n",
       "    </tr>\n",
       "    <tr>\n",
       "      <th>2</th>\n",
       "      <td>3</td>\n",
       "      <td>3</td>\n",
       "      <td>9100000</td>\n",
       "      <td>29700000</td>\n",
       "      <td>20</td>\n",
       "      <td>506</td>\n",
       "      <td>7100000</td>\n",
       "      <td>4500000</td>\n",
       "      <td>33300000</td>\n",
       "      <td>12800000</td>\n",
       "      <td>0</td>\n",
       "      <td>0</td>\n",
       "      <td>1</td>\n",
       "    </tr>\n",
       "    <tr>\n",
       "      <th>3</th>\n",
       "      <td>4</td>\n",
       "      <td>3</td>\n",
       "      <td>8200000</td>\n",
       "      <td>30700000</td>\n",
       "      <td>8</td>\n",
       "      <td>467</td>\n",
       "      <td>18200000</td>\n",
       "      <td>3300000</td>\n",
       "      <td>23300000</td>\n",
       "      <td>7900000</td>\n",
       "      <td>0</td>\n",
       "      <td>0</td>\n",
       "      <td>1</td>\n",
       "    </tr>\n",
       "    <tr>\n",
       "      <th>4</th>\n",
       "      <td>5</td>\n",
       "      <td>5</td>\n",
       "      <td>9800000</td>\n",
       "      <td>24200000</td>\n",
       "      <td>20</td>\n",
       "      <td>382</td>\n",
       "      <td>12400000</td>\n",
       "      <td>8200000</td>\n",
       "      <td>29400000</td>\n",
       "      <td>5000000</td>\n",
       "      <td>1</td>\n",
       "      <td>1</td>\n",
       "      <td>1</td>\n",
       "    </tr>\n",
       "    <tr>\n",
       "      <th>...</th>\n",
       "      <td>...</td>\n",
       "      <td>...</td>\n",
       "      <td>...</td>\n",
       "      <td>...</td>\n",
       "      <td>...</td>\n",
       "      <td>...</td>\n",
       "      <td>...</td>\n",
       "      <td>...</td>\n",
       "      <td>...</td>\n",
       "      <td>...</td>\n",
       "      <td>...</td>\n",
       "      <td>...</td>\n",
       "      <td>...</td>\n",
       "    </tr>\n",
       "    <tr>\n",
       "      <th>4264</th>\n",
       "      <td>4265</td>\n",
       "      <td>5</td>\n",
       "      <td>1000000</td>\n",
       "      <td>2300000</td>\n",
       "      <td>12</td>\n",
       "      <td>317</td>\n",
       "      <td>2800000</td>\n",
       "      <td>500000</td>\n",
       "      <td>3300000</td>\n",
       "      <td>800000</td>\n",
       "      <td>0</td>\n",
       "      <td>1</td>\n",
       "      <td>1</td>\n",
       "    </tr>\n",
       "    <tr>\n",
       "      <th>4265</th>\n",
       "      <td>4266</td>\n",
       "      <td>0</td>\n",
       "      <td>3300000</td>\n",
       "      <td>11300000</td>\n",
       "      <td>20</td>\n",
       "      <td>559</td>\n",
       "      <td>4200000</td>\n",
       "      <td>2900000</td>\n",
       "      <td>11000000</td>\n",
       "      <td>1900000</td>\n",
       "      <td>1</td>\n",
       "      <td>1</td>\n",
       "      <td>0</td>\n",
       "    </tr>\n",
       "    <tr>\n",
       "      <th>4266</th>\n",
       "      <td>4267</td>\n",
       "      <td>2</td>\n",
       "      <td>6500000</td>\n",
       "      <td>23900000</td>\n",
       "      <td>18</td>\n",
       "      <td>457</td>\n",
       "      <td>1200000</td>\n",
       "      <td>12400000</td>\n",
       "      <td>18100000</td>\n",
       "      <td>7300000</td>\n",
       "      <td>1</td>\n",
       "      <td>0</td>\n",
       "      <td>1</td>\n",
       "    </tr>\n",
       "    <tr>\n",
       "      <th>4267</th>\n",
       "      <td>4268</td>\n",
       "      <td>1</td>\n",
       "      <td>4100000</td>\n",
       "      <td>12800000</td>\n",
       "      <td>8</td>\n",
       "      <td>780</td>\n",
       "      <td>8200000</td>\n",
       "      <td>700000</td>\n",
       "      <td>14100000</td>\n",
       "      <td>5800000</td>\n",
       "      <td>1</td>\n",
       "      <td>0</td>\n",
       "      <td>0</td>\n",
       "    </tr>\n",
       "    <tr>\n",
       "      <th>4268</th>\n",
       "      <td>4269</td>\n",
       "      <td>1</td>\n",
       "      <td>9200000</td>\n",
       "      <td>29700000</td>\n",
       "      <td>10</td>\n",
       "      <td>607</td>\n",
       "      <td>17800000</td>\n",
       "      <td>11800000</td>\n",
       "      <td>35700000</td>\n",
       "      <td>12000000</td>\n",
       "      <td>0</td>\n",
       "      <td>0</td>\n",
       "      <td>0</td>\n",
       "    </tr>\n",
       "  </tbody>\n",
       "</table>\n",
       "<p>4269 rows × 13 columns</p>\n",
       "</div>"
      ],
      "text/plain": [
       "      loan_id   no_of_dependents   income_annum   loan_amount   loan_term  \\\n",
       "0           1                  2        9600000      29900000          12   \n",
       "1           2                  0        4100000      12200000           8   \n",
       "2           3                  3        9100000      29700000          20   \n",
       "3           4                  3        8200000      30700000           8   \n",
       "4           5                  5        9800000      24200000          20   \n",
       "...       ...                ...            ...           ...         ...   \n",
       "4264     4265                  5        1000000       2300000          12   \n",
       "4265     4266                  0        3300000      11300000          20   \n",
       "4266     4267                  2        6500000      23900000          18   \n",
       "4267     4268                  1        4100000      12800000           8   \n",
       "4268     4269                  1        9200000      29700000          10   \n",
       "\n",
       "       cibil_score   residential_assets_value   commercial_assets_value  \\\n",
       "0              778                    2400000                  17600000   \n",
       "1              417                    2700000                   2200000   \n",
       "2              506                    7100000                   4500000   \n",
       "3              467                   18200000                   3300000   \n",
       "4              382                   12400000                   8200000   \n",
       "...            ...                        ...                       ...   \n",
       "4264           317                    2800000                    500000   \n",
       "4265           559                    4200000                   2900000   \n",
       "4266           457                    1200000                  12400000   \n",
       "4267           780                    8200000                    700000   \n",
       "4268           607                   17800000                  11800000   \n",
       "\n",
       "       luxury_assets_value   bank_asset_value   education_ Not Graduate  \\\n",
       "0                 22700000            8000000                         0   \n",
       "1                  8800000            3300000                         1   \n",
       "2                 33300000           12800000                         0   \n",
       "3                 23300000            7900000                         0   \n",
       "4                 29400000            5000000                         1   \n",
       "...                    ...                ...                       ...   \n",
       "4264               3300000             800000                         0   \n",
       "4265              11000000            1900000                         1   \n",
       "4266              18100000            7300000                         1   \n",
       "4267              14100000            5800000                         1   \n",
       "4268              35700000           12000000                         0   \n",
       "\n",
       "       self_employed_ Yes   loan_status_ Rejected  \n",
       "0                       0                       0  \n",
       "1                       1                       1  \n",
       "2                       0                       1  \n",
       "3                       0                       1  \n",
       "4                       1                       1  \n",
       "...                   ...                     ...  \n",
       "4264                    1                       1  \n",
       "4265                    1                       0  \n",
       "4266                    0                       1  \n",
       "4267                    0                       0  \n",
       "4268                    0                       0  \n",
       "\n",
       "[4269 rows x 13 columns]"
      ]
     },
     "execution_count": 3,
     "metadata": {},
     "output_type": "execute_result"
    }
   ],
   "source": [
    "dataset"
   ]
  },
  {
   "cell_type": "code",
   "execution_count": 4,
   "id": "4a186116",
   "metadata": {},
   "outputs": [
    {
     "data": {
      "text/plain": [
       "(4269, 13)"
      ]
     },
     "execution_count": 4,
     "metadata": {},
     "output_type": "execute_result"
    }
   ],
   "source": [
    "rows, columns = dataset.shape\n",
    "rows, columns"
   ]
  },
  {
   "cell_type": "markdown",
   "id": "a34bfd3f",
   "metadata": {},
   "source": [
    "# 1.Replace Nan values"
   ]
  },
  {
   "cell_type": "code",
   "execution_count": 5,
   "id": "088b52bc",
   "metadata": {
    "scrolled": true
   },
   "outputs": [
    {
     "data": {
      "text/plain": [
       "loan_id                      0\n",
       " no_of_dependents            0\n",
       " income_annum                0\n",
       " loan_amount                 0\n",
       " loan_term                   0\n",
       " cibil_score                 0\n",
       " residential_assets_value    0\n",
       " commercial_assets_value     0\n",
       " luxury_assets_value         0\n",
       " bank_asset_value            0\n",
       " education_ Not Graduate     0\n",
       " self_employed_ Yes          0\n",
       " loan_status_ Rejected       0\n",
       "dtype: int64"
      ]
     },
     "execution_count": 5,
     "metadata": {},
     "output_type": "execute_result"
    }
   ],
   "source": [
    "\n",
    "dataset.isnull().sum()"
   ]
  },
  {
   "cell_type": "code",
   "execution_count": 6,
   "id": "0c179113",
   "metadata": {},
   "outputs": [],
   "source": [
    "column_data_types = dataset.dtypes"
   ]
  },
  {
   "cell_type": "code",
   "execution_count": 7,
   "id": "38eda034",
   "metadata": {
    "scrolled": false
   },
   "outputs": [
    {
     "data": {
      "text/plain": [
       "loan_id                      int64\n",
       " no_of_dependents            int64\n",
       " income_annum                int64\n",
       " loan_amount                 int64\n",
       " loan_term                   int64\n",
       " cibil_score                 int64\n",
       " residential_assets_value    int64\n",
       " commercial_assets_value     int64\n",
       " luxury_assets_value         int64\n",
       " bank_asset_value            int64\n",
       " education_ Not Graduate     int64\n",
       " self_employed_ Yes          int64\n",
       " loan_status_ Rejected       int64\n",
       "dtype: object"
      ]
     },
     "execution_count": 7,
     "metadata": {},
     "output_type": "execute_result"
    }
   ],
   "source": [
    "column_data_types"
   ]
  },
  {
   "cell_type": "code",
   "execution_count": 8,
   "id": "181aecbc",
   "metadata": {
    "scrolled": true
   },
   "outputs": [
    {
     "data": {
      "text/plain": [
       "Index(['loan_id', ' no_of_dependents', ' income_annum', ' loan_amount',\n",
       "       ' loan_term', ' cibil_score', ' residential_assets_value',\n",
       "       ' commercial_assets_value', ' luxury_assets_value', ' bank_asset_value',\n",
       "       ' education_ Not Graduate', ' self_employed_ Yes',\n",
       "       ' loan_status_ Rejected'],\n",
       "      dtype='object')"
      ]
     },
     "execution_count": 8,
     "metadata": {},
     "output_type": "execute_result"
    }
   ],
   "source": [
    "dataset.columns"
   ]
  },
  {
   "cell_type": "code",
   "execution_count": 9,
   "id": "e79c66b3",
   "metadata": {
    "scrolled": true
   },
   "outputs": [
    {
     "name": "stdout",
     "output_type": "stream",
     "text": [
      "loan_id                      [1, 2, 3, 4, 5, 6, 7, 8, 9, 10, 11, 12, 13, 14...\n",
      " no_of_dependents                                           [2, 0, 3, 5, 4, 1]\n",
      " income_annum                [9600000, 4100000, 9100000, 8200000, 9800000, ...\n",
      " loan_amount                 [29900000, 12200000, 29700000, 30700000, 24200...\n",
      " loan_term                                [12, 8, 20, 10, 4, 2, 18, 16, 14, 6]\n",
      " cibil_score                 [778, 417, 506, 467, 382, 319, 678, 782, 388, ...\n",
      " residential_assets_value    [2400000, 2700000, 7100000, 18200000, 12400000...\n",
      " commercial_assets_value     [17600000, 2200000, 4500000, 3300000, 8200000,...\n",
      " luxury_assets_value         [22700000, 8800000, 33300000, 23300000, 294000...\n",
      " bank_asset_value            [8000000, 3300000, 12800000, 7900000, 5000000,...\n",
      " education_ Not Graduate                                                [0, 1]\n",
      " self_employed_ Yes                                                     [0, 1]\n",
      " loan_status_ Rejected                                                  [0, 1]\n",
      "dtype: object\n"
     ]
    }
   ],
   "source": [
    "unique_values = dataset.apply(pd.unique)\n",
    "\n",
    "print(unique_values)"
   ]
  },
  {
   "cell_type": "code",
   "execution_count": 10,
   "id": "e9f8810f",
   "metadata": {
    "scrolled": false
   },
   "outputs": [
    {
     "data": {
      "text/plain": [
       "0       0\n",
       "1       1\n",
       "2       1\n",
       "3       1\n",
       "4       1\n",
       "       ..\n",
       "4264    1\n",
       "4265    0\n",
       "4266    1\n",
       "4267    0\n",
       "4268    0\n",
       "Name:  loan_status_ Rejected, Length: 4269, dtype: object"
      ]
     },
     "execution_count": 10,
     "metadata": {},
     "output_type": "execute_result"
    }
   ],
   "source": [
    "dataset[' loan_status_ Rejected'].astype(str)"
   ]
  },
  {
   "cell_type": "markdown",
   "id": "ba4424cd",
   "metadata": {},
   "source": [
    "# 2.How many loans are approved from overall data"
   ]
  },
  {
   "cell_type": "code",
   "execution_count": 11,
   "id": "14113a96",
   "metadata": {},
   "outputs": [
    {
     "name": "stdout",
     "output_type": "stream",
     "text": [
      "Column names after stripping: Index(['loan_id', 'no_of_dependents', 'income_annum', 'loan_amount',\n",
      "       'loan_term', 'cibil_score', 'residential_assets_value',\n",
      "       'commercial_assets_value', 'luxury_assets_value', 'bank_asset_value',\n",
      "       'education_ Not Graduate', 'self_employed_ Yes',\n",
      "       'loan_status_ Rejected'],\n",
      "      dtype='object')\n",
      "Correct column name identified: ['loan_status_ Rejected']\n",
      "Number of approved loans: 2656\n"
     ]
    }
   ],
   "source": [
    "# Strip leading/trailing whitespace from column names\n",
    "dataset.columns = dataset.columns.str.strip()\n",
    "\n",
    "# Print the column names to verify the correct name\n",
    "print(\"Column names after stripping:\", dataset.columns)\n",
    "\n",
    "# Check for the correct column name and print it\n",
    "correct_column_name = [col for col in dataset.columns if 'loan_status' in col]\n",
    "print(\"Correct column name identified:\", correct_column_name)\n",
    "\n",
    "# Ensure the column is numeric and handle missing values\n",
    "if correct_column_name:\n",
    "    dataset[correct_column_name[0]] = pd.to_numeric(dataset[correct_column_name[0]], errors='coerce')\n",
    "\n",
    "    # Count the occurrences of 'Approved' (assuming 0 represents approved)\n",
    "    approved_count = (dataset[correct_column_name[0]] == 0).sum()\n",
    "\n",
    "    # Display the result\n",
    "    print(\"Number of approved loans:\", approved_count)\n",
    "else:\n",
    "    print(\"Column 'loan_status_Rejected' not found after stripping.\")"
   ]
  },
  {
   "cell_type": "code",
   "execution_count": 12,
   "id": "a15840fa",
   "metadata": {
    "scrolled": true
   },
   "outputs": [
    {
     "data": {
      "image/png": "[encoded data removed]",
      "text/plain": [
       "<Figure size 800x600 with 1 Axes>"
      ]
     },
     "metadata": {},
     "output_type": "display_data"
    }
   ],
   "source": [
    "import matplotlib.pyplot as plt\n",
    "# Ensure the column is numeric and handle missing values\n",
    "if correct_column_name:\n",
    "    dataset[correct_column_name[0]] = pd.to_numeric(dataset[correct_column_name[0]], errors='coerce')\n",
    "\n",
    "    # Create a histogram to visualize the distribution of loan statuses\n",
    "    plt.figure(figsize=(8, 6))\n",
    "    dataset[correct_column_name[0]].plot(kind='hist', bins=10, color='skyblue')  # Assuming 10 bins\n",
    "    plt.xlabel('Loan Status')\n",
    "    plt.ylabel('Count')\n",
    "    plt.title('Distribution of Loan Status')\n",
    "    plt.show()\n",
    "else:\n",
    "    print(\"Column 'loan_status' not found after stripping.\")"
   ]
  },
  {
   "cell_type": "markdown",
   "id": "00b451ae",
   "metadata": {},
   "source": [
    "# 3.What is the overall loan approval rate in the dataset?"
   ]
  },
  {
   "cell_type": "code",
   "execution_count": 13,
   "id": "68f61d13",
   "metadata": {
    "scrolled": true
   },
   "outputs": [
    {
     "data": {
      "text/plain": [
       "0    0.62216\n",
       "1    0.37784\n",
       "Name: loan_status_ Rejected, dtype: float64"
      ]
     },
     "execution_count": 13,
     "metadata": {},
     "output_type": "execute_result"
    }
   ],
   "source": [
    "dataset['loan_status_ Rejected'].value_counts(normalize=True)"
   ]
  },
  {
   "cell_type": "markdown",
   "id": "3820131d",
   "metadata": {},
   "source": [
    "# 4.What is the distribution of loan amounts requested?"
   ]
  },
  {
   "cell_type": "code",
   "execution_count": 14,
   "id": "0d0537d8",
   "metadata": {},
   "outputs": [
    {
     "data": {
      "text/plain": [
       "count    4.269000e+03\n",
       "mean     1.513345e+07\n",
       "std      9.043363e+06\n",
       "min      3.000000e+05\n",
       "25%      7.700000e+06\n",
       "50%      1.450000e+07\n",
       "75%      2.150000e+07\n",
       "max      3.950000e+07\n",
       "Name: loan_amount, dtype: float64"
      ]
     },
     "execution_count": 14,
     "metadata": {},
     "output_type": "execute_result"
    }
   ],
   "source": [
    "# Loan Amount Distribution\n",
    "dataset['loan_amount'].describe()"
   ]
  },
  {
   "cell_type": "markdown",
   "id": "654cea78",
   "metadata": {},
   "source": [
    "# 5.What is the distribution of loan terms requested?"
   ]
  },
  {
   "cell_type": "code",
   "execution_count": 15,
   "id": "76926649",
   "metadata": {},
   "outputs": [
    {
     "name": "stdout",
     "output_type": "stream",
     "text": [
      "\n",
      "Loan Term Distribution:\n"
     ]
    },
    {
     "data": {
      "text/plain": [
       "6     490\n",
       "12    456\n",
       "4     447\n",
       "10    436\n",
       "18    422\n",
       "16    412\n",
       "20    411\n",
       "14    405\n",
       "2     404\n",
       "8     386\n",
       "Name: loan_term, dtype: int64"
      ]
     },
     "execution_count": 15,
     "metadata": {},
     "output_type": "execute_result"
    }
   ],
   "source": [
    "# Loan Term Distribution\n",
    "print(\"\\nLoan Term Distribution:\")\n",
    "dataset['loan_term'].value_counts()"
   ]
  },
  {
   "cell_type": "markdown",
   "id": "c7d45e55",
   "metadata": {},
   "source": [
    "# 6..What is the distribution of CIBIL (credit) scores in the dataset?"
   ]
  },
  {
   "cell_type": "code",
   "execution_count": 16,
   "id": "50611bfc",
   "metadata": {
    "scrolled": true
   },
   "outputs": [
    {
     "name": "stdout",
     "output_type": "stream",
     "text": [
      "\n",
      "Credit Score Distribution:\n"
     ]
    },
    {
     "data": {
      "text/plain": [
       "count    4269.000000\n",
       "mean      599.936051\n",
       "std       172.430401\n",
       "min       300.000000\n",
       "25%       453.000000\n",
       "50%       600.000000\n",
       "75%       748.000000\n",
       "max       900.000000\n",
       "Name: cibil_score, dtype: float64"
      ]
     },
     "execution_count": 16,
     "metadata": {},
     "output_type": "execute_result"
    }
   ],
   "source": [
    "# Credit Score Distribution\n",
    "print(\"\\nCredit Score Distribution:\")\n",
    "dataset['cibil_score'].describe()"
   ]
  },
  {
   "cell_type": "markdown",
   "id": "297f884d",
   "metadata": {},
   "source": [
    "# 7.What is the distribution of different asset values (residential, commercial, luxury, and bank assets)?"
   ]
  },
  {
   "cell_type": "code",
   "execution_count": 17,
   "id": "a8e568e3",
   "metadata": {},
   "outputs": [
    {
     "name": "stdout",
     "output_type": "stream",
     "text": [
      "\n",
      "Asset Value Distribution:\n",
      "residential_assets_value:\n",
      "count    4.269000e+03\n",
      "mean     7.472617e+06\n",
      "std      6.503637e+06\n",
      "min     -1.000000e+05\n",
      "25%      2.200000e+06\n",
      "50%      5.600000e+06\n",
      "75%      1.130000e+07\n",
      "max      2.910000e+07\n",
      "Name: residential_assets_value, dtype: float64\n",
      "commercial_assets_value:\n",
      "count    4.269000e+03\n",
      "mean     4.973155e+06\n",
      "std      4.388966e+06\n",
      "min      0.000000e+00\n",
      "25%      1.300000e+06\n",
      "50%      3.700000e+06\n",
      "75%      7.600000e+06\n",
      "max      1.940000e+07\n",
      "Name: commercial_assets_value, dtype: float64\n",
      "luxury_assets_value:\n",
      "count    4.269000e+03\n",
      "mean     1.512631e+07\n",
      "std      9.103754e+06\n",
      "min      3.000000e+05\n",
      "25%      7.500000e+06\n",
      "50%      1.460000e+07\n",
      "75%      2.170000e+07\n",
      "max      3.920000e+07\n",
      "Name: luxury_assets_value, dtype: float64\n",
      "bank_asset_value:\n",
      "count    4.269000e+03\n",
      "mean     4.976692e+06\n",
      "std      3.250185e+06\n",
      "min      0.000000e+00\n",
      "25%      2.300000e+06\n",
      "50%      4.600000e+06\n",
      "75%      7.100000e+06\n",
      "max      1.470000e+07\n",
      "Name: bank_asset_value, dtype: float64\n"
     ]
    }
   ],
   "source": [
    "# Asset Value Distribution\n",
    "print(\"\\nAsset Value Distribution:\")\n",
    "for asset in ['residential_assets_value', 'commercial_assets_value', 'luxury_assets_value', 'bank_asset_value']:\n",
    "    print(f\"{asset}:\")\n",
    "    print(dataset[asset].describe())"
   ]
  },
  {
   "cell_type": "markdown",
   "id": "c3227429",
   "metadata": {},
   "source": [
    "# 8.How does the number of dependents impact loan approval/rejection?"
   ]
  },
  {
   "cell_type": "code",
   "execution_count": 18,
   "id": "ebb8cd06",
   "metadata": {},
   "outputs": [
    {
     "name": "stdout",
     "output_type": "stream",
     "text": [
      "\n",
      "Dependents Analysis:\n",
      "no_of_dependents  loan_status_ Rejected\n",
      "0                 0                        0.641854\n",
      "                  1                        0.358146\n",
      "1                 0                        0.616930\n",
      "                  1                        0.383070\n",
      "2                 0                        0.622881\n",
      "                  1                        0.377119\n",
      "3                 0                        0.628611\n",
      "                  1                        0.371389\n",
      "4                 0                        0.618351\n",
      "                  1                        0.381649\n",
      "5                 0                        0.603269\n",
      "                  1                        0.396731\n",
      "Name: loan_status_ Rejected, dtype: float64\n"
     ]
    }
   ],
   "source": [
    "# Dependents Analysis\n",
    "print(\"\\nDependents Analysis:\")\n",
    "print(dataset.groupby('no_of_dependents')['loan_status_ Rejected'].value_counts(normalize=True))"
   ]
  },
  {
   "cell_type": "markdown",
   "id": "90554439",
   "metadata": {},
   "source": [
    "# 9.How does the education level (Graduate or Not Graduate) influence loan approval/rejection?"
   ]
  },
  {
   "cell_type": "code",
   "execution_count": 19,
   "id": "6ae83870",
   "metadata": {},
   "outputs": [
    {
     "name": "stdout",
     "output_type": "stream",
     "text": [
      "\n",
      "Education Level Analysis:\n"
     ]
    },
    {
     "data": {
      "text/plain": [
       "education_ Not Graduate  loan_status_ Rejected\n",
       "0                        0                        0.624534\n",
       "                         1                        0.375466\n",
       "1                        0                        0.619765\n",
       "                         1                        0.380235\n",
       "Name: loan_status_ Rejected, dtype: float64"
      ]
     },
     "execution_count": 19,
     "metadata": {},
     "output_type": "execute_result"
    }
   ],
   "source": [
    "# Education Level Analysis\n",
    "print(\"\\nEducation Level Analysis:\")\n",
    "dataset.groupby('education_ Not Graduate')['loan_status_ Rejected'].value_counts(normalize=True)"
   ]
  },
  {
   "cell_type": "markdown",
   "id": "86630aa7",
   "metadata": {},
   "source": [
    "# 10.How does the self-employment status (Yes or No) affect loan approval/rejection?"
   ]
  },
  {
   "cell_type": "code",
   "execution_count": 20,
   "id": "187f9af9",
   "metadata": {},
   "outputs": [
    {
     "name": "stdout",
     "output_type": "stream",
     "text": [
      "\n",
      "Self-Employment Status Analysis:\n"
     ]
    },
    {
     "data": {
      "text/plain": [
       "self_employed_ Yes  loan_status_ Rejected\n",
       "0                   0                        0.621992\n",
       "                    1                        0.378008\n",
       "1                   0                        0.622326\n",
       "                    1                        0.377674\n",
       "Name: loan_status_ Rejected, dtype: float64"
      ]
     },
     "execution_count": 20,
     "metadata": {},
     "output_type": "execute_result"
    }
   ],
   "source": [
    "# Self-Employment Status Analysis\n",
    "print(\"\\nSelf-Employment Status Analysis:\")\n",
    "dataset.groupby('self_employed_ Yes')['loan_status_ Rejected'].value_counts(normalize=True)"
   ]
  },
  {
   "cell_type": "markdown",
   "id": "928ecb7b",
   "metadata": {},
   "source": [
    "# 11.What is the distribution of annual income in the dataset?"
   ]
  },
  {
   "cell_type": "code",
   "execution_count": 21,
   "id": "e1e103e9",
   "metadata": {},
   "outputs": [
    {
     "name": "stdout",
     "output_type": "stream",
     "text": [
      "\n",
      "Income Analysis:\n",
      "count    4.269000e+03\n",
      "mean     5.059124e+06\n",
      "std      2.806840e+06\n",
      "min      2.000000e+05\n",
      "25%      2.700000e+06\n",
      "50%      5.100000e+06\n",
      "75%      7.500000e+06\n",
      "max      9.900000e+06\n",
      "Name: income_annum, dtype: float64\n"
     ]
    }
   ],
   "source": [
    "# Income Analysis\n",
    "print(\"\\nIncome Analysis:\")\n",
    "print(dataset['income_annum'].describe())"
   ]
  },
  {
   "cell_type": "code",
   "execution_count": 22,
   "id": "a7af6c2b",
   "metadata": {},
   "outputs": [
    {
     "name": "stdout",
     "output_type": "stream",
     "text": [
      "\n",
      "Dependents Analysis:\n",
      "no_of_dependents  loan_status_ Rejected\n",
      "0                 0                        0.641854\n",
      "                  1                        0.358146\n",
      "1                 0                        0.616930\n",
      "                  1                        0.383070\n",
      "2                 0                        0.622881\n",
      "                  1                        0.377119\n",
      "3                 0                        0.628611\n",
      "                  1                        0.371389\n",
      "4                 0                        0.618351\n",
      "                  1                        0.381649\n",
      "5                 0                        0.603269\n",
      "                  1                        0.396731\n",
      "Name: loan_status_ Rejected, dtype: float64\n"
     ]
    }
   ],
   "source": [
    "# Dependents Analysis\n",
    "print(\"\\nDependents Analysis:\")\n",
    "print(dataset.groupby('no_of_dependents')['loan_status_ Rejected'].value_counts(normalize=True))"
   ]
  },
  {
   "cell_type": "markdown",
   "id": "8ee4801a",
   "metadata": {},
   "source": [
    "# 12 .How many people were slef employed and NOt selfemployed"
   ]
  },
  {
   "cell_type": "code",
   "execution_count": 23,
   "id": "bdeefa59",
   "metadata": {},
   "outputs": [
    {
     "name": "stdout",
     "output_type": "stream",
     "text": [
      "Number of self-employed individuals: 2150\n",
      "Number of non self-employed individuals: 2119\n"
     ]
    }
   ],
   "source": [
    "# Check data type and strip whitespace\n",
    "dataset['self_employed_ Yes'] = dataset['self_employed_ Yes'].astype(str).str.strip()\n",
    "\n",
    "# Count the occurrences of self-employed individuals (self_employed_Yes = '1') and not self-employed (self_employed_Yes = '0')\n",
    "selfemployed_count = (dataset['self_employed_ Yes'] == '1').sum()\n",
    "non_selfemployed_count = (dataset['self_employed_ Yes'] == '0').sum()\n",
    "\n",
    "# Display the results\n",
    "print(\"Number of self-employed individuals:\", selfemployed_count)\n",
    "print(\"Number of non self-employed individuals:\", non_selfemployed_count)\n"
   ]
  },
  {
   "cell_type": "code",
   "execution_count": 24,
   "id": "fca0400f",
   "metadata": {},
   "outputs": [
    {
     "data": {
      "text/plain": [
       "2150"
      ]
     },
     "execution_count": 24,
     "metadata": {},
     "output_type": "execute_result"
    }
   ],
   "source": [
    "selfemployed_count"
   ]
  },
  {
   "cell_type": "code",
   "execution_count": 25,
   "id": "ab37d960",
   "metadata": {},
   "outputs": [
    {
     "data": {
      "text/plain": [
       "2119"
      ]
     },
     "execution_count": 25,
     "metadata": {},
     "output_type": "execute_result"
    }
   ],
   "source": [
    "non_selfemployed_count "
   ]
  },
  {
   "cell_type": "code",
   "execution_count": 26,
   "id": "65677f2b",
   "metadata": {
    "scrolled": true
   },
   "outputs": [
    {
     "data": {
      "image/png": "[encoded data removed]",
      "text/plain": [
       "<Figure size 800x600 with 1 Axes>"
      ]
     },
     "metadata": {},
     "output_type": "display_data"
    }
   ],
   "source": [
    "\n",
    "# Convert 'loan_status' column to string\n",
    "dataset['self_employed_ Yes'] = dataset['self_employed_ Yes'].astype(str)\n",
    "\n",
    "# Remove leading/trailing whitespace\n",
    "dataset['self_employed_ Yes'] = dataset['self_employed_ Yes'].str.strip()\n",
    "\n",
    "values = dataset['self_employed_ Yes'].value_counts().values\n",
    "labels = dataset['self_employed_ Yes'].value_counts().index\n",
    "\n",
    "plt.figure(figsize=(8, 6))\n",
    "plt.pie(values, labels=labels, autopct='%1.1f%%')\n",
    "plt.axis('equal')  # Equal aspect ratio ensures the pie chart is drawn as a circle.\n",
    "plt.title('Distribution of Self-Employed')\n",
    "plt.show()"
   ]
  },
  {
   "cell_type": "markdown",
   "id": "048e3dce",
   "metadata": {},
   "source": [
    "# 13.What is the distribution of CIBIL scores across approved and rejected loans?"
   ]
  },
  {
   "cell_type": "code",
   "execution_count": 27,
   "id": "c358d271",
   "metadata": {},
   "outputs": [
    {
     "name": "stderr",
     "output_type": "stream",
     "text": [
      "C:\\anaconda\\envs\\aiml\\lib\\site-packages\\ipykernel_launcher.py:12: FutureWarning: \n",
      "\n",
      "`shade` is now deprecated in favor of `fill`; setting `fill=True`.\n",
      "This will become an error in seaborn v0.14.0; please update your code.\n",
      "\n",
      "  if sys.path[0] == \"\":\n",
      "C:\\anaconda\\envs\\aiml\\lib\\site-packages\\ipykernel_launcher.py:15: FutureWarning: \n",
      "\n",
      "`shade` is now deprecated in favor of `fill`; setting `fill=True`.\n",
      "This will become an error in seaborn v0.14.0; please update your code.\n",
      "\n",
      "  from ipykernel import kernelapp as app\n"
     ]
    },
    {
     "data": {
      "image/png": "[encoded data removed]",
      "text/plain": [
       "<Figure size 1000x600 with 1 Axes>"
      ]
     },
     "metadata": {},
     "output_type": "display_data"
    }
   ],
   "source": [
    "# Convert 'loan_status' column to string if it's not already binary\n",
    "dataset['loan_status_ Rejected'] = dataset['loan_status_ Rejected'].astype(int)\n",
    "\n",
    "# Filter approved and rejected loans\n",
    "approved_loans = dataset[dataset['loan_status_ Rejected'] == 1]['cibil_score']\n",
    "rejected_loans = dataset[dataset['loan_status_ Rejected'] == 0]['cibil_score']\n",
    "\n",
    "# Create a figure and axis\n",
    "fig, ax = plt.subplots(figsize=(10, 6))\n",
    "\n",
    "# Plot the KDE plot for approved loans\n",
    "sns.kdeplot(approved_loans, shade=True, label='Approved Loans', ax=ax)\n",
    "\n",
    "# Plot the KDE plot for rejected loans\n",
    "sns.kdeplot(rejected_loans, shade=True, label='Rejected Loans', ax=ax)\n",
    "\n",
    "# Set plot title and labels\n",
    "ax.set_title('Distribution of CIBIL Scores across Approved and Rejected Loans')\n",
    "ax.set_xlabel('CIBIL Score')\n",
    "ax.set_ylabel('Density')\n",
    "\n",
    "# Add legend\n",
    "ax.legend()\n",
    "\n",
    "# Show the plot\n",
    "plt.show()"
   ]
  },
  {
   "cell_type": "markdown",
   "id": "0e9033d0",
   "metadata": {},
   "source": [
    "# 13.How does the income_annum distribution differ between graduates and non-graduates?"
   ]
  },
  {
   "cell_type": "code",
   "execution_count": 31,
   "id": "434ed485",
   "metadata": {},
   "outputs": [
    {
     "name": "stdout",
     "output_type": "stream",
     "text": [
      "Number of Graduates: 2144\n",
      "Number of Non-Graduates: 2125\n"
     ]
    }
   ],
   "source": [
    "# Convert 'education_ Not Graduate' to string and create 'education' column\n",
    "dataset['education_ Not Graduate'] = dataset['education_ Not Graduate'].astype(str)\n",
    "dataset['education'] = dataset['education_ Not Graduate'].apply(lambda x: 'Not Graduate' if x == '1' else 'Graduate')\n",
    "\n",
    "# Count the occurrences of 'Graduate' and 'Not Graduate'\n",
    "Graduate_count = (dataset['education'] == 'Graduate').sum()\n",
    "Not_Graduate_count = (dataset['education'] == 'Not Graduate').sum()\n",
    "\n",
    "print(f\"Number of Graduates: {Graduate_count}\")\n",
    "print(f\"Number of Non-Graduates: {Not_Graduate_count}\")\n",
    "\n"
   ]
  },
  {
   "cell_type": "code",
   "execution_count": 32,
   "id": "4fc2a29a",
   "metadata": {},
   "outputs": [
    {
     "data": {
      "image/png": "[encoded data removed]",
      "text/plain": [
       "<Figure size 1000x600 with 1 Axes>"
      ]
     },
     "metadata": {},
     "output_type": "display_data"
    },
    {
     "data": {
      "image/png": "[encoded data removed]",
      "text/plain": [
       "<Figure size 1000x600 with 1 Axes>"
      ]
     },
     "metadata": {},
     "output_type": "display_data"
    }
   ],
   "source": [
    "# Filter the income_annum data based on education status\n",
    "graduate_income = dataset[dataset['education'] == 'Graduate']['income_annum']\n",
    "non_graduate_income = dataset[dataset['education'] == 'Not Graduate']['income_annum']\n",
    "\n",
    "# Create a figure and axis for the KDE plot\n",
    "fig, ax = plt.subplots(figsize=(10, 6))\n",
    "\n",
    "# Plot the KDE plot for graduates\n",
    "sns.kdeplot(graduate_income, fill=True, label='Graduates', ax=ax)\n",
    "\n",
    "# Plot the KDE plot for non-graduates\n",
    "sns.kdeplot(non_graduate_income, fill=True, label='Non-Graduates', ax=ax)\n",
    "\n",
    "# Set plot title and labels\n",
    "ax.set_title('Distribution of Annual Income across Graduates and Non-Graduates')\n",
    "ax.set_xlabel('Annual Income')\n",
    "ax.set_ylabel('Density')\n",
    "\n",
    "# Add legend\n",
    "ax.legend()\n",
    "\n",
    "# Show the plot\n",
    "plt.show()\n",
    "\n",
    "# Alternatively, you can use box plots for a different perspective\n",
    "fig, ax = plt.subplots(figsize=(10, 6))\n",
    "sns.boxplot(x='education', y='income_annum', data=dataset, ax=ax)\n",
    "ax.set_title('Annual Income Distribution by Education Status')\n",
    "ax.set_xlabel('Education Status')\n",
    "ax.set_ylabel('Annual Income')\n",
    "plt.show()"
   ]
  },
  {
   "cell_type": "markdown",
   "id": "9f62b0d2",
   "metadata": {},
   "source": [
    "# 14.Is there a correlation between loan_amount and income_annum?"
   ]
  },
  {
   "cell_type": "code",
   "execution_count": 35,
   "id": "0155f657",
   "metadata": {},
   "outputs": [
    {
     "name": "stdout",
     "output_type": "stream",
     "text": [
      "The correlation between loan amount and income per annum is: 0.9274699109871487\n"
     ]
    },
    {
     "data": {
      "image/png": "[encoded data removed]",
      "text/plain": [
       "<Figure size 1000x600 with 1 Axes>"
      ]
     },
     "metadata": {},
     "output_type": "display_data"
    }
   ],
   "source": [
    "# Creating DataFrame\n",
    "df = pd.DataFrame(dataset)\n",
    "\n",
    "# Calculating the correlation\n",
    "correlation = df['loan_amount'].corr(df['income_annum'])\n",
    "print(f\"The correlation between loan amount and income per annum is: {correlation}\")\n",
    "\n",
    "# Visualizing the correlation\n",
    "plt.figure(figsize=(10, 6))\n",
    "sns.scatterplot(x='income_annum', y='loan_amount', data=df)\n",
    "plt.title('Scatter plot of Loan Amount vs Income per Annum')\n",
    "plt.xlabel('Income per Annum')\n",
    "plt.ylabel('Loan Amount')\n",
    "plt.show()"
   ]
  },
  {
   "cell_type": "markdown",
   "id": "6b44705a",
   "metadata": {},
   "source": [
    "# 15.Compare the average loan_term between approved and rejected loans"
   ]
  },
  {
   "cell_type": "code",
   "execution_count": 39,
   "id": "c570f93f",
   "metadata": {},
   "outputs": [
    {
     "name": "stdout",
     "output_type": "stream",
     "text": [
      "Average loan term for each loan status:\n",
      "loan_status\n",
      "Approved    10.397590\n",
      "Rejected    11.728456\n",
      "Name: loan_term, dtype: float64\n"
     ]
    }
   ],
   "source": [
    "df = pd.DataFrame(dataset)\n",
    "\n",
    "# Creating a column to indicate loan status as 'Approved' or 'Rejected'\n",
    "df['loan_status'] = df['loan_status_ Rejected'].apply(lambda x: 'Rejected' if x == 1 else 'Approved')\n",
    "\n",
    "# Calculating the average loan term for each loan status\n",
    "average_loan_term = df.groupby('loan_status')['loan_term'].mean()\n",
    "\n",
    "print(\"Average loan term for each loan status:\")\n",
    "print(average_loan_term)"
   ]
  },
  {
   "cell_type": "markdown",
   "id": "99f455b4",
   "metadata": {},
   "source": [
    "# 17.What is the average value of loan_amount?\n"
   ]
  },
  {
   "cell_type": "code",
   "execution_count": 41,
   "id": "40a2e476",
   "metadata": {},
   "outputs": [
    {
     "data": {
      "text/plain": [
       "15133450.456781447"
      ]
     },
     "execution_count": 41,
     "metadata": {},
     "output_type": "execute_result"
    }
   ],
   "source": [
    "dataset['loan_amount'].mean()"
   ]
  },
  {
   "cell_type": "markdown",
   "id": "989afa03",
   "metadata": {},
   "source": [
    "# 18.What is the most frequently repeated value of loan_amount?"
   ]
  },
  {
   "cell_type": "code",
   "execution_count": 42,
   "id": "70e99c80",
   "metadata": {},
   "outputs": [
    {
     "data": {
      "text/plain": [
       "10600000"
      ]
     },
     "execution_count": 42,
     "metadata": {},
     "output_type": "execute_result"
    }
   ],
   "source": [
    "dataset['loan_amount'].mode()[0]"
   ]
  },
  {
   "cell_type": "markdown",
   "id": "e7714584",
   "metadata": {},
   "source": [
    "# 19.what kind of relationship between cibil_score and loan_amount"
   ]
  },
  {
   "cell_type": "code",
   "execution_count": 43,
   "id": "cbebddf5",
   "metadata": {
    "scrolled": true
   },
   "outputs": [
    {
     "data": {
      "text/html": [
       "<div>\n",
       "<style scoped>\n",
       "    .dataframe tbody tr th:only-of-type {\n",
       "        vertical-align: middle;\n",
       "    }\n",
       "\n",
       "    .dataframe tbody tr th {\n",
       "        vertical-align: top;\n",
       "    }\n",
       "\n",
       "    .dataframe thead th {\n",
       "        text-align: right;\n",
       "    }\n",
       "</style>\n",
       "<table border=\"1\" class=\"dataframe\">\n",
       "  <thead>\n",
       "    <tr style=\"text-align: right;\">\n",
       "      <th></th>\n",
       "      <th>loan_id</th>\n",
       "      <th>no_of_dependents</th>\n",
       "      <th>income_annum</th>\n",
       "      <th>loan_amount</th>\n",
       "      <th>loan_term</th>\n",
       "      <th>cibil_score</th>\n",
       "      <th>residential_assets_value</th>\n",
       "      <th>commercial_assets_value</th>\n",
       "      <th>luxury_assets_value</th>\n",
       "      <th>bank_asset_value</th>\n",
       "      <th>loan_status_ Rejected</th>\n",
       "    </tr>\n",
       "  </thead>\n",
       "  <tbody>\n",
       "    <tr>\n",
       "      <th>loan_id</th>\n",
       "      <td>1.000000</td>\n",
       "      <td>0.005326</td>\n",
       "      <td>0.012592</td>\n",
       "      <td>0.008170</td>\n",
       "      <td>0.009809</td>\n",
       "      <td>0.016323</td>\n",
       "      <td>0.020936</td>\n",
       "      <td>0.018595</td>\n",
       "      <td>-0.000862</td>\n",
       "      <td>0.010765</td>\n",
       "      <td>-0.017685</td>\n",
       "    </tr>\n",
       "    <tr>\n",
       "      <th>no_of_dependents</th>\n",
       "      <td>0.005326</td>\n",
       "      <td>1.000000</td>\n",
       "      <td>0.007266</td>\n",
       "      <td>-0.003366</td>\n",
       "      <td>-0.020111</td>\n",
       "      <td>-0.009998</td>\n",
       "      <td>0.007376</td>\n",
       "      <td>-0.001531</td>\n",
       "      <td>0.002817</td>\n",
       "      <td>0.011163</td>\n",
       "      <td>0.018114</td>\n",
       "    </tr>\n",
       "    <tr>\n",
       "      <th>income_annum</th>\n",
       "      <td>0.012592</td>\n",
       "      <td>0.007266</td>\n",
       "      <td>1.000000</td>\n",
       "      <td>0.927470</td>\n",
       "      <td>0.011488</td>\n",
       "      <td>-0.023034</td>\n",
       "      <td>0.636841</td>\n",
       "      <td>0.640328</td>\n",
       "      <td>0.929145</td>\n",
       "      <td>0.851093</td>\n",
       "      <td>0.015189</td>\n",
       "    </tr>\n",
       "    <tr>\n",
       "      <th>loan_amount</th>\n",
       "      <td>0.008170</td>\n",
       "      <td>-0.003366</td>\n",
       "      <td>0.927470</td>\n",
       "      <td>1.000000</td>\n",
       "      <td>0.008437</td>\n",
       "      <td>-0.017035</td>\n",
       "      <td>0.594596</td>\n",
       "      <td>0.603188</td>\n",
       "      <td>0.860914</td>\n",
       "      <td>0.788122</td>\n",
       "      <td>-0.016150</td>\n",
       "    </tr>\n",
       "    <tr>\n",
       "      <th>loan_term</th>\n",
       "      <td>0.009809</td>\n",
       "      <td>-0.020111</td>\n",
       "      <td>0.011488</td>\n",
       "      <td>0.008437</td>\n",
       "      <td>1.000000</td>\n",
       "      <td>0.007810</td>\n",
       "      <td>0.008016</td>\n",
       "      <td>-0.005478</td>\n",
       "      <td>0.012490</td>\n",
       "      <td>0.017177</td>\n",
       "      <td>0.113036</td>\n",
       "    </tr>\n",
       "    <tr>\n",
       "      <th>cibil_score</th>\n",
       "      <td>0.016323</td>\n",
       "      <td>-0.009998</td>\n",
       "      <td>-0.023034</td>\n",
       "      <td>-0.017035</td>\n",
       "      <td>0.007810</td>\n",
       "      <td>1.000000</td>\n",
       "      <td>-0.019947</td>\n",
       "      <td>-0.003769</td>\n",
       "      <td>-0.028618</td>\n",
       "      <td>-0.015478</td>\n",
       "      <td>-0.770518</td>\n",
       "    </tr>\n",
       "    <tr>\n",
       "      <th>residential_assets_value</th>\n",
       "      <td>0.020936</td>\n",
       "      <td>0.007376</td>\n",
       "      <td>0.636841</td>\n",
       "      <td>0.594596</td>\n",
       "      <td>0.008016</td>\n",
       "      <td>-0.019947</td>\n",
       "      <td>1.000000</td>\n",
       "      <td>0.414786</td>\n",
       "      <td>0.590932</td>\n",
       "      <td>0.527418</td>\n",
       "      <td>0.014367</td>\n",
       "    </tr>\n",
       "    <tr>\n",
       "      <th>commercial_assets_value</th>\n",
       "      <td>0.018595</td>\n",
       "      <td>-0.001531</td>\n",
       "      <td>0.640328</td>\n",
       "      <td>0.603188</td>\n",
       "      <td>-0.005478</td>\n",
       "      <td>-0.003769</td>\n",
       "      <td>0.414786</td>\n",
       "      <td>1.000000</td>\n",
       "      <td>0.591128</td>\n",
       "      <td>0.548576</td>\n",
       "      <td>-0.008246</td>\n",
       "    </tr>\n",
       "    <tr>\n",
       "      <th>luxury_assets_value</th>\n",
       "      <td>-0.000862</td>\n",
       "      <td>0.002817</td>\n",
       "      <td>0.929145</td>\n",
       "      <td>0.860914</td>\n",
       "      <td>0.012490</td>\n",
       "      <td>-0.028618</td>\n",
       "      <td>0.590932</td>\n",
       "      <td>0.591128</td>\n",
       "      <td>1.000000</td>\n",
       "      <td>0.788517</td>\n",
       "      <td>0.015465</td>\n",
       "    </tr>\n",
       "    <tr>\n",
       "      <th>bank_asset_value</th>\n",
       "      <td>0.010765</td>\n",
       "      <td>0.011163</td>\n",
       "      <td>0.851093</td>\n",
       "      <td>0.788122</td>\n",
       "      <td>0.017177</td>\n",
       "      <td>-0.015478</td>\n",
       "      <td>0.527418</td>\n",
       "      <td>0.548576</td>\n",
       "      <td>0.788517</td>\n",
       "      <td>1.000000</td>\n",
       "      <td>0.006778</td>\n",
       "    </tr>\n",
       "    <tr>\n",
       "      <th>loan_status_ Rejected</th>\n",
       "      <td>-0.017685</td>\n",
       "      <td>0.018114</td>\n",
       "      <td>0.015189</td>\n",
       "      <td>-0.016150</td>\n",
       "      <td>0.113036</td>\n",
       "      <td>-0.770518</td>\n",
       "      <td>0.014367</td>\n",
       "      <td>-0.008246</td>\n",
       "      <td>0.015465</td>\n",
       "      <td>0.006778</td>\n",
       "      <td>1.000000</td>\n",
       "    </tr>\n",
       "  </tbody>\n",
       "</table>\n",
       "</div>"
      ],
      "text/plain": [
       "                           loan_id  no_of_dependents  income_annum  \\\n",
       "loan_id                   1.000000          0.005326      0.012592   \n",
       "no_of_dependents          0.005326          1.000000      0.007266   \n",
       "income_annum              0.012592          0.007266      1.000000   \n",
       "loan_amount               0.008170         -0.003366      0.927470   \n",
       "loan_term                 0.009809         -0.020111      0.011488   \n",
       "cibil_score               0.016323         -0.009998     -0.023034   \n",
       "residential_assets_value  0.020936          0.007376      0.636841   \n",
       "commercial_assets_value   0.018595         -0.001531      0.640328   \n",
       "luxury_assets_value      -0.000862          0.002817      0.929145   \n",
       "bank_asset_value          0.010765          0.011163      0.851093   \n",
       "loan_status_ Rejected    -0.017685          0.018114      0.015189   \n",
       "\n",
       "                          loan_amount  loan_term  cibil_score  \\\n",
       "loan_id                      0.008170   0.009809     0.016323   \n",
       "no_of_dependents            -0.003366  -0.020111    -0.009998   \n",
       "income_annum                 0.927470   0.011488    -0.023034   \n",
       "loan_amount                  1.000000   0.008437    -0.017035   \n",
       "loan_term                    0.008437   1.000000     0.007810   \n",
       "cibil_score                 -0.017035   0.007810     1.000000   \n",
       "residential_assets_value     0.594596   0.008016    -0.019947   \n",
       "commercial_assets_value      0.603188  -0.005478    -0.003769   \n",
       "luxury_assets_value          0.860914   0.012490    -0.028618   \n",
       "bank_asset_value             0.788122   0.017177    -0.015478   \n",
       "loan_status_ Rejected       -0.016150   0.113036    -0.770518   \n",
       "\n",
       "                          residential_assets_value  commercial_assets_value  \\\n",
       "loan_id                                   0.020936                 0.018595   \n",
       "no_of_dependents                          0.007376                -0.001531   \n",
       "income_annum                              0.636841                 0.640328   \n",
       "loan_amount                               0.594596                 0.603188   \n",
       "loan_term                                 0.008016                -0.005478   \n",
       "cibil_score                              -0.019947                -0.003769   \n",
       "residential_assets_value                  1.000000                 0.414786   \n",
       "commercial_assets_value                   0.414786                 1.000000   \n",
       "luxury_assets_value                       0.590932                 0.591128   \n",
       "bank_asset_value                          0.527418                 0.548576   \n",
       "loan_status_ Rejected                     0.014367                -0.008246   \n",
       "\n",
       "                          luxury_assets_value  bank_asset_value  \\\n",
       "loan_id                             -0.000862          0.010765   \n",
       "no_of_dependents                     0.002817          0.011163   \n",
       "income_annum                         0.929145          0.851093   \n",
       "loan_amount                          0.860914          0.788122   \n",
       "loan_term                            0.012490          0.017177   \n",
       "cibil_score                         -0.028618         -0.015478   \n",
       "residential_assets_value             0.590932          0.527418   \n",
       "commercial_assets_value              0.591128          0.548576   \n",
       "luxury_assets_value                  1.000000          0.788517   \n",
       "bank_asset_value                     0.788517          1.000000   \n",
       "loan_status_ Rejected                0.015465          0.006778   \n",
       "\n",
       "                          loan_status_ Rejected  \n",
       "loan_id                               -0.017685  \n",
       "no_of_dependents                       0.018114  \n",
       "income_annum                           0.015189  \n",
       "loan_amount                           -0.016150  \n",
       "loan_term                              0.113036  \n",
       "cibil_score                           -0.770518  \n",
       "residential_assets_value               0.014367  \n",
       "commercial_assets_value               -0.008246  \n",
       "luxury_assets_value                    0.015465  \n",
       "bank_asset_value                       0.006778  \n",
       "loan_status_ Rejected                  1.000000  "
      ]
     },
     "execution_count": 43,
     "metadata": {},
     "output_type": "execute_result"
    }
   ],
   "source": [
    "dataset.corr()"
   ]
  },
  {
   "cell_type": "markdown",
   "id": "1d99a677",
   "metadata": {},
   "source": [
    "# 20.How many people get loan  approved with no. of dependents morethan 2 "
   ]
  },
  {
   "cell_type": "code",
   "execution_count": 45,
   "id": "cbdd733c",
   "metadata": {},
   "outputs": [],
   "source": [
    "filtered_data = dataset[(dataset['no_of_dependents'] > 2) & (dataset['loan_status'] == 'Approved')]"
   ]
  },
  {
   "cell_type": "code",
   "execution_count": 46,
   "id": "596f65d1",
   "metadata": {},
   "outputs": [
    {
     "data": {
      "text/html": [
       "<div>\n",
       "<style scoped>\n",
       "    .dataframe tbody tr th:only-of-type {\n",
       "        vertical-align: middle;\n",
       "    }\n",
       "\n",
       "    .dataframe tbody tr th {\n",
       "        vertical-align: top;\n",
       "    }\n",
       "\n",
       "    .dataframe thead th {\n",
       "        text-align: right;\n",
       "    }\n",
       "</style>\n",
       "<table border=\"1\" class=\"dataframe\">\n",
       "  <thead>\n",
       "    <tr style=\"text-align: right;\">\n",
       "      <th></th>\n",
       "      <th>loan_id</th>\n",
       "      <th>no_of_dependents</th>\n",
       "      <th>income_annum</th>\n",
       "      <th>loan_amount</th>\n",
       "      <th>loan_term</th>\n",
       "      <th>cibil_score</th>\n",
       "      <th>residential_assets_value</th>\n",
       "      <th>commercial_assets_value</th>\n",
       "      <th>luxury_assets_value</th>\n",
       "      <th>bank_asset_value</th>\n",
       "      <th>education_ Not Graduate</th>\n",
       "      <th>self_employed_ Yes</th>\n",
       "      <th>loan_status_ Rejected</th>\n",
       "      <th>education</th>\n",
       "      <th>loan_status</th>\n",
       "    </tr>\n",
       "  </thead>\n",
       "  <tbody>\n",
       "    <tr>\n",
       "      <th>6</th>\n",
       "      <td>7</td>\n",
       "      <td>5</td>\n",
       "      <td>8700000</td>\n",
       "      <td>33000000</td>\n",
       "      <td>4</td>\n",
       "      <td>678</td>\n",
       "      <td>22500000</td>\n",
       "      <td>14800000</td>\n",
       "      <td>29200000</td>\n",
       "      <td>4300000</td>\n",
       "      <td>0</td>\n",
       "      <td>0</td>\n",
       "      <td>0</td>\n",
       "      <td>Graduate</td>\n",
       "      <td>Approved</td>\n",
       "    </tr>\n",
       "    <tr>\n",
       "      <th>10</th>\n",
       "      <td>11</td>\n",
       "      <td>4</td>\n",
       "      <td>2900000</td>\n",
       "      <td>11200000</td>\n",
       "      <td>2</td>\n",
       "      <td>547</td>\n",
       "      <td>8100000</td>\n",
       "      <td>4700000</td>\n",
       "      <td>9500000</td>\n",
       "      <td>3100000</td>\n",
       "      <td>0</td>\n",
       "      <td>1</td>\n",
       "      <td>0</td>\n",
       "      <td>Graduate</td>\n",
       "      <td>Approved</td>\n",
       "    </tr>\n",
       "    <tr>\n",
       "      <th>15</th>\n",
       "      <td>16</td>\n",
       "      <td>5</td>\n",
       "      <td>4700000</td>\n",
       "      <td>10700000</td>\n",
       "      <td>10</td>\n",
       "      <td>794</td>\n",
       "      <td>5700000</td>\n",
       "      <td>3900000</td>\n",
       "      <td>16400000</td>\n",
       "      <td>4400000</td>\n",
       "      <td>1</td>\n",
       "      <td>0</td>\n",
       "      <td>0</td>\n",
       "      <td>Not Graduate</td>\n",
       "      <td>Approved</td>\n",
       "    </tr>\n",
       "    <tr>\n",
       "      <th>17</th>\n",
       "      <td>18</td>\n",
       "      <td>4</td>\n",
       "      <td>2900000</td>\n",
       "      <td>9400000</td>\n",
       "      <td>14</td>\n",
       "      <td>780</td>\n",
       "      <td>2900000</td>\n",
       "      <td>2800000</td>\n",
       "      <td>6700000</td>\n",
       "      <td>4300000</td>\n",
       "      <td>1</td>\n",
       "      <td>1</td>\n",
       "      <td>0</td>\n",
       "      <td>Not Graduate</td>\n",
       "      <td>Approved</td>\n",
       "    </tr>\n",
       "    <tr>\n",
       "      <th>19</th>\n",
       "      <td>20</td>\n",
       "      <td>5</td>\n",
       "      <td>6300000</td>\n",
       "      <td>14600000</td>\n",
       "      <td>12</td>\n",
       "      <td>652</td>\n",
       "      <td>10300000</td>\n",
       "      <td>3500000</td>\n",
       "      <td>23500000</td>\n",
       "      <td>5900000</td>\n",
       "      <td>0</td>\n",
       "      <td>0</td>\n",
       "      <td>0</td>\n",
       "      <td>Graduate</td>\n",
       "      <td>Approved</td>\n",
       "    </tr>\n",
       "    <tr>\n",
       "      <th>...</th>\n",
       "      <td>...</td>\n",
       "      <td>...</td>\n",
       "      <td>...</td>\n",
       "      <td>...</td>\n",
       "      <td>...</td>\n",
       "      <td>...</td>\n",
       "      <td>...</td>\n",
       "      <td>...</td>\n",
       "      <td>...</td>\n",
       "      <td>...</td>\n",
       "      <td>...</td>\n",
       "      <td>...</td>\n",
       "      <td>...</td>\n",
       "      <td>...</td>\n",
       "      <td>...</td>\n",
       "    </tr>\n",
       "    <tr>\n",
       "      <th>4249</th>\n",
       "      <td>4250</td>\n",
       "      <td>4</td>\n",
       "      <td>1100000</td>\n",
       "      <td>4000000</td>\n",
       "      <td>14</td>\n",
       "      <td>887</td>\n",
       "      <td>2400000</td>\n",
       "      <td>1500000</td>\n",
       "      <td>4200000</td>\n",
       "      <td>1600000</td>\n",
       "      <td>0</td>\n",
       "      <td>0</td>\n",
       "      <td>0</td>\n",
       "      <td>Graduate</td>\n",
       "      <td>Approved</td>\n",
       "    </tr>\n",
       "    <tr>\n",
       "      <th>4253</th>\n",
       "      <td>4254</td>\n",
       "      <td>5</td>\n",
       "      <td>7000000</td>\n",
       "      <td>26200000</td>\n",
       "      <td>12</td>\n",
       "      <td>896</td>\n",
       "      <td>13100000</td>\n",
       "      <td>6600000</td>\n",
       "      <td>23600000</td>\n",
       "      <td>5700000</td>\n",
       "      <td>0</td>\n",
       "      <td>1</td>\n",
       "      <td>0</td>\n",
       "      <td>Graduate</td>\n",
       "      <td>Approved</td>\n",
       "    </tr>\n",
       "    <tr>\n",
       "      <th>4260</th>\n",
       "      <td>4261</td>\n",
       "      <td>5</td>\n",
       "      <td>8800000</td>\n",
       "      <td>29300000</td>\n",
       "      <td>10</td>\n",
       "      <td>560</td>\n",
       "      <td>16800000</td>\n",
       "      <td>13900000</td>\n",
       "      <td>31100000</td>\n",
       "      <td>9900000</td>\n",
       "      <td>0</td>\n",
       "      <td>0</td>\n",
       "      <td>0</td>\n",
       "      <td>Graduate</td>\n",
       "      <td>Approved</td>\n",
       "    </tr>\n",
       "    <tr>\n",
       "      <th>4261</th>\n",
       "      <td>4262</td>\n",
       "      <td>3</td>\n",
       "      <td>3000000</td>\n",
       "      <td>7500000</td>\n",
       "      <td>6</td>\n",
       "      <td>881</td>\n",
       "      <td>1400000</td>\n",
       "      <td>4500000</td>\n",
       "      <td>6100000</td>\n",
       "      <td>2300000</td>\n",
       "      <td>0</td>\n",
       "      <td>1</td>\n",
       "      <td>0</td>\n",
       "      <td>Graduate</td>\n",
       "      <td>Approved</td>\n",
       "    </tr>\n",
       "    <tr>\n",
       "      <th>4263</th>\n",
       "      <td>4264</td>\n",
       "      <td>3</td>\n",
       "      <td>5000000</td>\n",
       "      <td>12700000</td>\n",
       "      <td>14</td>\n",
       "      <td>865</td>\n",
       "      <td>4700000</td>\n",
       "      <td>8100000</td>\n",
       "      <td>19500000</td>\n",
       "      <td>6300000</td>\n",
       "      <td>0</td>\n",
       "      <td>0</td>\n",
       "      <td>0</td>\n",
       "      <td>Graduate</td>\n",
       "      <td>Approved</td>\n",
       "    </tr>\n",
       "  </tbody>\n",
       "</table>\n",
       "<p>1328 rows × 15 columns</p>\n",
       "</div>"
      ],
      "text/plain": [
       "      loan_id  no_of_dependents  income_annum  loan_amount  loan_term  \\\n",
       "6           7                 5       8700000     33000000          4   \n",
       "10         11                 4       2900000     11200000          2   \n",
       "15         16                 5       4700000     10700000         10   \n",
       "17         18                 4       2900000      9400000         14   \n",
       "19         20                 5       6300000     14600000         12   \n",
       "...       ...               ...           ...          ...        ...   \n",
       "4249     4250                 4       1100000      4000000         14   \n",
       "4253     4254                 5       7000000     26200000         12   \n",
       "4260     4261                 5       8800000     29300000         10   \n",
       "4261     4262                 3       3000000      7500000          6   \n",
       "4263     4264                 3       5000000     12700000         14   \n",
       "\n",
       "      cibil_score  residential_assets_value  commercial_assets_value  \\\n",
       "6             678                  22500000                 14800000   \n",
       "10            547                   8100000                  4700000   \n",
       "15            794                   5700000                  3900000   \n",
       "17            780                   2900000                  2800000   \n",
       "19            652                  10300000                  3500000   \n",
       "...           ...                       ...                      ...   \n",
       "4249          887                   2400000                  1500000   \n",
       "4253          896                  13100000                  6600000   \n",
       "4260          560                  16800000                 13900000   \n",
       "4261          881                   1400000                  4500000   \n",
       "4263          865                   4700000                  8100000   \n",
       "\n",
       "      luxury_assets_value  bank_asset_value education_ Not Graduate  \\\n",
       "6                29200000           4300000                       0   \n",
       "10                9500000           3100000                       0   \n",
       "15               16400000           4400000                       1   \n",
       "17                6700000           4300000                       1   \n",
       "19               23500000           5900000                       0   \n",
       "...                   ...               ...                     ...   \n",
       "4249              4200000           1600000                       0   \n",
       "4253             23600000           5700000                       0   \n",
       "4260             31100000           9900000                       0   \n",
       "4261              6100000           2300000                       0   \n",
       "4263             19500000           6300000                       0   \n",
       "\n",
       "     self_employed_ Yes  loan_status_ Rejected     education loan_status  \n",
       "6                     0                      0      Graduate    Approved  \n",
       "10                    1                      0      Graduate    Approved  \n",
       "15                    0                      0  Not Graduate    Approved  \n",
       "17                    1                      0  Not Graduate    Approved  \n",
       "19                    0                      0      Graduate    Approved  \n",
       "...                 ...                    ...           ...         ...  \n",
       "4249                  0                      0      Graduate    Approved  \n",
       "4253                  1                      0      Graduate    Approved  \n",
       "4260                  0                      0      Graduate    Approved  \n",
       "4261                  1                      0      Graduate    Approved  \n",
       "4263                  0                      0      Graduate    Approved  \n",
       "\n",
       "[1328 rows x 15 columns]"
      ]
     },
     "execution_count": 46,
     "metadata": {},
     "output_type": "execute_result"
    }
   ],
   "source": [
    "filtered_data "
   ]
  },
  {
   "cell_type": "code",
   "execution_count": 47,
   "id": "57d857d3",
   "metadata": {},
   "outputs": [],
   "source": [
    "count_filtered_data = filtered_data.shape[0]"
   ]
  },
  {
   "cell_type": "code",
   "execution_count": 48,
   "id": "72592c51",
   "metadata": {},
   "outputs": [
    {
     "data": {
      "text/plain": [
       "1328"
      ]
     },
     "execution_count": 48,
     "metadata": {},
     "output_type": "execute_result"
    }
   ],
   "source": [
    "count_filtered_data"
   ]
  },
  {
   "cell_type": "code",
   "execution_count": null,
   "id": "9a699a39",
   "metadata": {},
   "outputs": [],
   "source": []
  },
  {
   "cell_type": "code",
   "execution_count": null,
   "id": "c9080d1f",
   "metadata": {},
   "outputs": [],
   "source": []
  }
 ],
 "metadata": {
  "kernelspec": {
   "display_name": "Python 3 (ipykernel)",
   "language": "python",
   "name": "python3"
  },
  "language_info": {
   "codemirror_mode": {
    "name": "ipython",
    "version": 3
   },
   "file_extension": ".py",
   "mimetype": "text/x-python",
   "name": "python",
   "nbconvert_exporter": "python",
   "pygments_lexer": "ipython3",
   "version": "3.7.6"
  }
 },
 "nbformat": 4,
 "nbformat_minor": 5
}
